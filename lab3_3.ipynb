{
  "cells": [
    {
      "cell_type": "markdown",
      "metadata": {
        "id": "wuSIETUezH9y"
      },
      "source": [
        "##### <font color=\"C13F38\"><strong>This homework is due at midnight on April 4, 2023. </strong></font>\n",
        "\n",
        "As always: run the cell below to get you started."
      ]
    },
    {
      "cell_type": "code",
      "execution_count": 5,
      "metadata": {
        "id": "9ijw-DnTzH92"
      },
      "outputs": [],
      "source": [
        "import numpy as np\n",
        "import pandas as pd\n",
        "import matplotlib.pyplot as plt\n",
        "from scipy.stats import uniform\n",
        "\n",
        "def reber_patterns():\n",
        "    # need to actual convert the sequences and then can probably rewrite this code to be more pythonic\n",
        "    reber_sequences = pd.read_csv('reber_grammar.csv')\n",
        "    pattern = {}\n",
        "    pattern['trainingInputs'] = {}\n",
        "    pattern['testingInputs'] = {}\n",
        "    rebertrain = reber_sequences['rebertrain'].values\n",
        "    rebertrain = rebertrain[:-1] # dropping the last NaN\n",
        "    rebertest = reber_sequences['rebertest'].values\n",
        "    characters = ['B','T','S','X','V','P','E']\n",
        "    nrCharacters = len(characters)\n",
        "    nrTrainingPatterns = len(rebertrain)\n",
        "    nrTestingPatterns = len(rebertest)\n",
        "\n",
        "    for i in range(nrTrainingPatterns):\n",
        "        sequenceLength = len(rebertrain[i])\n",
        "        pattern['trainingInputs'][i] = np.zeros((nrCharacters,sequenceLength))\n",
        "        for j in range(sequenceLength):\n",
        "            pattern['trainingInputs'][i][:,j] = np.array([rebertrain[i][j] == c for c in characters])\n",
        "    \n",
        "    for i in range(nrTestingPatterns):\n",
        "        sequenceLength = len(rebertest[i])\n",
        "        pattern['testingInputs'][i] = np.zeros((nrCharacters, sequenceLength))\n",
        "        for j in range(sequenceLength):\n",
        "            pattern['testingInputs'][i][:, j] = np.array([rebertest[i][j] == c for c in characters])\n",
        "    \n",
        "    pattern['trainingStrings'] = rebertrain[:-1]\n",
        "    pattern['testingStrings'] = rebertest\n",
        "    pattern['allStrings'] = np.concatenate((rebertrain, rebertest))\n",
        "    pattern['characters'] = characters\n",
        "\n",
        "    return pattern\n",
        "\n",
        "def logistic(x):\n",
        "    return 1/(1+np.exp(-x))\n",
        "\n",
        "def activate(model, input, contextActs):\n",
        "    hiddenActs = logistic(model['i2hWeights']@input + model['c2hWeights']@contextActs)\n",
        "    outputActs = (np.exp(model['h2oWeights']@hiddenActs))/np.sum((np.exp(model['h2oWeights']@hiddenActs)))\n",
        "#     print(outputActs)\n",
        "    return outputActs, hiddenActs\n",
        "\n",
        "def evaluateModel(model, pattern):\n",
        "    nrTrainingInputs = len(pattern['trainingInputs'])-1\n",
        "    trainingAccuracy = np.zeros((nrTrainingInputs,1))\n",
        "\n",
        "    for p in range(nrTrainingInputs):\n",
        "        input = pattern['trainingInputs'][p]\n",
        "        sequenceLength = input.shape[1]\n",
        "        contextActs = 0.5 * np.ones((model['nrContexts'],1))\n",
        "        acc = np.zeros((sequenceLength-1,1))\n",
        "\n",
        "        for i in range(sequenceLength-1):\n",
        "            outputActs, hiddenActs = activate(model, input[:,i:(i+1)], contextActs)\n",
        "            contextActs = hiddenActs # recurrence\n",
        "            \n",
        "            history = pattern['trainingStrings'][p][:i+1]\n",
        "            prediction = history + pattern['characters'][np.argmax(outputActs)]\n",
        "            acc[i] = any([pattern['allStrings'][j].startswith(prediction)\n",
        "                           for j in range(len(pattern['allStrings']))\n",
        "                           if len(pattern['allStrings'][j]) >= len(prediction)]) # accuracy is wrong methinks\n",
        "            trainingAccuracy[p] = np.mean(acc)\n",
        "\n",
        "    # testing\n",
        "    nrTestingInputs = len(pattern['testingInputs'])-1\n",
        "    testingAccuracy = np.zeros((nrTestingInputs,1))\n",
        "    for p in range(nrTestingInputs):\n",
        "        input = pattern['testingInputs'][p]\n",
        "        sequenceLength = input.shape[1]\n",
        "        contextActs = 0.5 * np.ones((model['nrContexts'],1))\n",
        "        acc = np.zeros((sequenceLength-1,1))\n",
        "\n",
        "        for i in range(sequenceLength-1):\n",
        "            outputActs, hiddenActs = activate(model, input[:,i:(i+1)], contextActs)\n",
        "            contextActs = hiddenActs\n",
        "            prediction = np.argmax(outputActs)\n",
        "            history = pattern['testingStrings'][p][:i+1]\n",
        "            prediction = history + pattern['characters'][np.argmax(outputActs)]\n",
        "            acc[i] = any([pattern['allStrings'][j].startswith(prediction)\n",
        "                            for j in range(len(pattern['allStrings']))\n",
        "                            if len(pattern['allStrings'][j]) >= len(prediction)])\n",
        "            testingAccuracy[p] = np.mean(acc)\n",
        "    return trainingAccuracy, testingAccuracy"
      ]
    },
    {
      "cell_type": "markdown",
      "metadata": {
        "id": "O7I0o8HwzH94"
      },
      "source": [
        "# Lab 3.3 - Recurrent neural networks\n",
        "\n",
        "In this section of the lab, you will be exploring how a recurrent neural network is able to learn a rudimentary form of grammar.\n",
        "\n",
        "You will notice that you will spend less time coding up the models, and more time investigating its behavior. This is partly because you already spent a bunch of time coding up neural networks, and not so much time investigating how we can use them to investigate cognition. We hope we are giving you a better insight into how psychologists use neural networks to understand the mental processes they study.\n",
        "\n",
        "However, if you are truly interested in how the model in this lab work, we encourage you to dive into the code. You will see that the code is written _very much_ in the style of all the models you have seen, so hopefully that will help in making them a bit more interpretable.\n",
        "\n",
        "You can earn 25 points on this lab.\n",
        "\n",
        "_Credits_\n",
        "This first section of the assignment is a modification of the exercises on the Reber grammar given in the original PDP handbook by Jay McClelland, as well as the assignments based on this chapter by Todd Gureckis and Brenden Lake.\n",
        "\n",
        "This lab draws on work from the following publications:\n",
        "\n",
        "Cleeremans, A. and McClelland, J. L. (1991). Learning the structure of event sequences. Journal of Experimental Psychology General, 120, 235–253.\n",
        "\n",
        "Servan-Schreiber, D., Cleeremans, A., and McClelland, J. L. (1991). Graded state machines: The representation of temporal contingencies in simple recurrent networks. Machine Learning, 7, 161–193.\n",
        "\n",
        "# 1. Recurrent neural networks and the Reber grammar\n",
        "As we discussed in class, it is not trivial to design a neural network that is able to learn the temporal sequence of information. Of course, one could teach a simple feedforward network a list of input-output pairs in order, where the desired output of the previous pair is the input of the next one. However, there would be nothing inherently temporal about the learned associations. More importantly, the network would not be able to represent anything about the temporal context. In other words, it would not know what happened before the current input. In contrast, humans continuously rely on this information to make predictions.\n",
        "\n",
        "To deal with this limitation of feedforward neural networks, Jeffrey Elman designed the recurrent neural network in 1990:\n",
        "\n",
        "![rnn](rnn_3-3-1.png)\n",
        "\n",
        "A recurrent neural network looks a lot like a ‘regular’ neural network, except that its task is to use the current input to predict what the next input would be. In this way, it is trying to learn something about the _structure_ of the information that it faces. The network also differs from the ones we have studied before in its structure. As you surely noticed, the network has an extra set of ‘context’ nodes. These context nodes are essentially an extension of the input layer, but they have a special property: their activation is a _copy_ of the activity of the hidden layer on the previous time step.\n",
        "\n",
        "In essence, this induces a rudimentary form of memory into our model. It now not only knows what happens _right now_, but also what happened on the previous time step. This simple addition to the model has two implications. First, it makes backpropagation much more elaborate. We saw this in class, but luckily you will not have to worry about coding this up. Second, it allows the model to make predictions about what happens next based on the current information and the context in which this happened.\n",
        "\n",
        "To see why this is an important extension of neural networks, today we are going to expose a recurrent neural network to the “Reber grammar”. This is an artificial grammar that has a bunch of desirable properties that let us test whether the neural network will be able to use its temporal context to make informed predictions about what will happen next.\n",
        "\n",
        "# 1.1 The Reber grammar\n",
        "\n",
        "The rules of the artificial Reber grammar are best described in the flow chart below:\n",
        "\n",
        "![reber-grammar](reber-grammar.png)\n",
        "\n",
        "The grammar spells out a set of set of allowable or grammatical sequences of symbols. The flowchart above lets you construct these sequences! The grammar automatically starts with the left most arrow. If you are at a node, you follow an arrow from the current node to the next. Each arrow is associated with a letter, and when you transition through that arrow, you add the associated letter to the sequence. Each sequence you can get by going through this sequence is considered grammatical. Note that every sequence begins with B (for beginning) and ends with E (for end).\n",
        "\n",
        "So, for example, after our first transition, we can go down past P, then to the right past V, then up past another V, and then past E to the finish, so we have constructed the sequence ‘BPVVE’.\n",
        "\n",
        "There are many other sequences! For example, the self-connecting nodes will allow you to insert the infinite series of T and S into the sequences. Also, there is a loop in the flowchart that lets you insert infinite series of letters that do not immediately repeat. So, for example, ‘BTXSSSSSSSSSSSSSE’ and ‘BPTVPXVPXVPXVPXTVVE’ are both grammatical sequences. If a sequence cannot be constructed using this flowchart, it is considered not grammatical.\n",
        "\n"
      ]
    },
    {
      "cell_type": "markdown",
      "metadata": {
        "id": "-anJecTDzH9-"
      },
      "source": [
        "<font color=\"508C46\"><strong>Question 1 (2 points)</strong><br>\n",
        "Let's make sure you understand the Reber grammar. Which of the following sequences are grammatical?\n",
        "1. BPTVVE\n",
        "2. BTSSSXXXVVE\n",
        "3. BPTTVPSE\n",
        "4. BTSSSXVPSE\n",
        "5. BTXXVVPXVVE\n",
        "<font> "
      ]
    },
    {
      "cell_type": "markdown",
      "metadata": {
        "id": "Rmk6ZZyvzH9_"
      },
      "source": [
        "\n",
        ".. double click this to type your response.\n",
        "\n",
        "1 and 3\n"
      ]
    },
    {
      "cell_type": "markdown",
      "metadata": {
        "id": "dwk6jxotzH9_"
      },
      "source": [
        "Now, the neat thing about the Reber grammar is that in order to learn it, that is in order to be able to predict which character comes next, you cannot not pay attention to just the previous character. In fact, you need to incorporate the characters that occurred before that as well. To see this, you are going to pretend to be a ‘zero-order’, ‘first-order’, and ‘second-order’ memory predictor. In other words, you will have to make predictions about the next letter, based on different memory sizes. The zero-order memory predictor has no memory, not even knowing the current input. The first-order memory predictor can only remember one letter back. And, perhaps, unsurprisingly, the second-order memory predictor remembers two letters back."
      ]
    },
    {
      "cell_type": "markdown",
      "metadata": {
        "id": "8f7PCFMVzH-S"
      },
      "source": [
        "<font color=\"508C46\"><strong>Question 2 (1 point)</strong><br>\n",
        "What is the zero-order structure of the grammar? In other words, if you did not even know the most recent letter, what can you predict about the output? You can find the answer to this question by figuring out the relative frequency of the various outputs. Of course, B is never a possible output (because each sequence starts automatically with that letter), but all other letters can be outputs. So, the zero-order structure is the relative frequency of each letter as an output.\n",
        "<font> "
      ]
    },
    {
      "cell_type": "markdown",
      "metadata": {
        "id": "81jCbTqGzH-S"
      },
      "source": [
        "\n",
        ".. double click this to type your response\n",
        "\n",
        "Frequency of every letter is 2 except for E which has a frequency of 1"
      ]
    },
    {
      "cell_type": "markdown",
      "metadata": {
        "id": "i3Ackqk3zH-S"
      },
      "source": [
        "<font color=\"508C46\"><strong>Question 3 (2 point)</strong><br>\n",
        "**<u>What is the first-order structure of the grammar? In other words, for each the letters in this task (‘B’, ‘T’, ‘S’, ‘X’, ‘P’, ‘V’), what are the possible successors (following letters) given just a first-order memory?</u>** Hint: ‘B’ has two possible successors, and there are three letters with the same set of successors.\n",
        "<font> "
      ]
    },
    {
      "cell_type": "markdown",
      "metadata": {
        "id": "Wjme_eo-zH-T"
      },
      "source": [
        "\n",
        ".. double click this to type your response\n",
        "\n",
        "B has two successors T and P\n",
        "T has 4 succhessors, S, X, T, and V\n",
        "S has 3 successors, S, X, and E\n",
        "X has 4 successors, S, X, T, and V\n",
        "P has 4 successors, S, X, T and V\n",
        "V has 3 successors, V, E, P"
      ]
    },
    {
      "cell_type": "markdown",
      "metadata": {
        "id": "osDQ1srqzH-T"
      },
      "source": [
        "<font color=\"508C46\"><strong>Question 4 (2 point)</strong><br>\n",
        "Finally, let’s explore the second-order structure of some of the grammar (we won’t go through the full possibilities because this will get too laborious). In the table below, we have given all possible two-order sequences that end in T or X (feel free to check our work). **<u>What are the possible successors?</u>**\n",
        "<font> "
      ]
    },
    {
      "cell_type": "markdown",
      "metadata": {
        "id": "UDlEcbvNzH-V"
      },
      "source": [
        "Double click to fill out the following table:\n",
        "\n",
        "| Sequence | Successors |\n",
        "| ---------| ---------- |\n",
        "| BT |S, X |\n",
        "| TT |T,V |\n",
        "| XT |T,V | \n",
        "| PT | T,V| \n",
        "| TX | S,X| \n",
        "| SX |S,X | \n",
        "| XX | T,V| \n",
        "| PX | T,V| "
      ]
    },
    {
      "cell_type": "markdown",
      "metadata": {
        "id": "MslHKBDQzH-W"
      },
      "source": [
        "<font color=\"508C46\"><strong>Question 5 (4 points)</strong><br>\n",
        "**<u>Based on these questions, why is it useful to have a second-order memory in this task? Do you think it would be better to have third-order memory?</u>**\n",
        "<font> "
      ]
    },
    {
      "cell_type": "markdown",
      "metadata": {
        "id": "p9u_pmRqzH-W"
      },
      "source": [
        "\n",
        ".. double click this to type your response.\n",
        "\n",
        "The higher order you go, the fewer output possibilities there are. This reduces error in a model. A third order memory, however, might risk not capturing the grammar fully"
      ]
    },
    {
      "cell_type": "markdown",
      "metadata": {
        "id": "wG7BS8P2zH-W"
      },
      "source": [
        "# 2. Inspecting the recurrent neural network, and its input\n",
        "In 1991, Cleeremans and McClelland performed a study in which six participants learned the structure of a, slightly different, Reber grammar. Specifically, they performed 20 sessions of the task. In each of these, they responded to 3100 stimuli that followed this algorithm (The participants were instructed that the task was about motor learning, and so they pressed buttons according to six dots that appeared on a horizontal line on the screen. Each dot corresponded to one letter, but participants never saw the actual letters). So, people saw 62000 (!) trials of the Reber grammar. To test whether people were making predictions about the following letter, on 15% of the trials, a different, non-grammatical letter was substituted. Interestingly, Cleeremans and McClelland found that early in the experiment participants’ behavior largely followed the first-order structure that you reported in _Question 3_. They weren’t _surprised_ when a non-grammatical letter occurred, as long as that letter occurred in the first-order structure predicted by the previous letter. So, if the previous letter was ‘T’, their behavior suggested that people thought there were four possible next letters, even if there were only two (see Question 4)! Later on, however, participants became much more sensitive to the context in which the letters occurred, and so their behavior started following the second-order structure of the grammar much more.\n",
        "\n",
        "Here, we are going to use a recurrent neural network, to see if we can model this development in learning. The recurrent network looks like this:\n",
        "\n",
        "![rnn-3-3-2](rnn_3-3-2.png)\n",
        "\n",
        "\n",
        "It has 7 input neurons and 7 output neurons, one for each letter. On each ‘trial’ the network will be presented with a letter. Each of the input units will have activity 0, except for the current letter, which will be 1. This form coding is known as ‘one-hot’ encoding, because only one neuron is on or ‘hot’. The output that needs to be learned is simply the next letter, or the one-hot encoded version of that letter. To make this explicit, if the first letter in a sequence is B, and the next one is T (is this grammatical?), then the input is [1 0 0 0 0 0 0], and the correct output would be [0 1 0 0 0 0 0].\n",
        "\n",
        "\n",
        "In order to allow the network to encode the current ‘context’, on each step it receives additional input to the hidden layer from the context units (each have 8 units in our model). These units are special, because their activity is copied from the hidden units on the previous step (except for the first step, where they are all 0.5). This way, we are allowing the model to respond differently to the same letter when it occurs in different positions in the grammar.\n",
        "\n",
        "The context units represent what happened on the previous trial. So, they are a form of memory, allowing the network to connect consecutive inputs and (hopefully) learn the structure of the Reber grammar.\n",
        "\n",
        "Here are some technical specs about the types of activation functions. The neurons in the hidden layer use a logistic transformation over the net input, so that each neuron’s output is scaled between 0 and 1. The output layer, however, performs a _softmax_ activation function, so all activity across all neurons sums to 1. This is useful here, because we are trying to figure out which letter the network predicts will come next. This best takes form as a probability distribution, and the softmax gives us exactly that. You won’t see this in the lab, but using a softmax activation function actually makes backpropagation a bit easier!\n",
        "\n",
        "# 2.1 Inspecting the input and output patterns\n",
        "\n",
        "Let’s first inspect the patterns that we will use to train the neural network. You may notice that there is a .csv file in the data folder called reber_grammer.csv. If you open it, you will see that this file contains two columns, `rebertrain` and `rebertest`. If you inspect them, you will see that both these cell arrays contain sequences of the Reber grammar. Together, these represent all 43 possible sequences with maximum length 10, split as equally as possible between the two columns. There are two columns, because we will train the model on one set of sequences, and then test its performance on another set of sequences."
      ]
    },
    {
      "cell_type": "markdown",
      "source": [],
      "metadata": {
        "id": "dLVfrE-J_YHx"
      }
    },
    {
      "cell_type": "markdown",
      "metadata": {
        "id": "UpChxMpIzH-X"
      },
      "source": [
        "<font color=\"508C46\"><strong>Question 6 (2 points)</strong><br>\n",
        "**<u>Why is it a good idea to train and test your model on different data?</u>**\n",
        "<font> "
      ]
    },
    {
      "cell_type": "markdown",
      "metadata": {
        "id": "27033MODzH-X"
      },
      "source": [
        "\n",
        ".. double click this to type your response.\n",
        "\n",
        "To make sure it is applicable to the cognitive process as a whole rather than overfitting to a specific dataset "
      ]
    },
    {
      "cell_type": "markdown",
      "metadata": {
        "id": "qVnyphBAzH-X"
      },
      "source": [
        "Of course, the sequences in these files are not in the correct format. The cell arrays contain strings, and not one-hot encoded vectors, so the recurrent neural network wouldn’t be able to handle it.\n",
        "This is where the function `reber_patterns` comes in handy. We wrote this for you. Let’s give it a try! Try the code below and look at the variable `pattern`.\n"
      ]
    },
    {
      "cell_type": "code",
      "execution_count": 6,
      "metadata": {
        "colab": {
          "base_uri": "https://localhost:8080/"
        },
        "id": "PsvOf5eHzH-X",
        "outputId": "589cfe30-271b-4ca4-e6b7-b1fbad4954cb"
      },
      "outputs": [
        {
          "output_type": "execute_result",
          "data": {
            "text/plain": [
              "{'trainingInputs': {0: array([[1., 0., 0., 0., 0., 0.],\n",
              "         [0., 1., 0., 0., 0., 0.],\n",
              "         [0., 0., 1., 0., 1., 0.],\n",
              "         [0., 0., 0., 1., 0., 0.],\n",
              "         [0., 0., 0., 0., 0., 0.],\n",
              "         [0., 0., 0., 0., 0., 0.],\n",
              "         [0., 0., 0., 0., 0., 1.]]),\n",
              "  1: array([[1., 0., 0., 0., 0.],\n",
              "         [0., 1., 0., 0., 0.],\n",
              "         [0., 0., 0., 1., 0.],\n",
              "         [0., 0., 1., 0., 0.],\n",
              "         [0., 0., 0., 0., 0.],\n",
              "         [0., 0., 0., 0., 0.],\n",
              "         [0., 0., 0., 0., 1.]]),\n",
              "  2: array([[1., 0., 0., 0., 0., 0., 0., 0.],\n",
              "         [0., 1., 0., 0., 0., 0., 0., 0.],\n",
              "         [0., 0., 1., 1., 1., 0., 1., 0.],\n",
              "         [0., 0., 0., 0., 0., 1., 0., 0.],\n",
              "         [0., 0., 0., 0., 0., 0., 0., 0.],\n",
              "         [0., 0., 0., 0., 0., 0., 0., 0.],\n",
              "         [0., 0., 0., 0., 0., 0., 0., 1.]]),\n",
              "  3: array([[1., 0., 0., 0., 0., 0., 0., 0., 0.],\n",
              "         [0., 1., 0., 0., 0., 0., 0., 0., 0.],\n",
              "         [0., 0., 1., 1., 0., 0., 0., 0., 0.],\n",
              "         [0., 0., 0., 0., 1., 1., 0., 0., 0.],\n",
              "         [0., 0., 0., 0., 0., 0., 1., 1., 0.],\n",
              "         [0., 0., 0., 0., 0., 0., 0., 0., 0.],\n",
              "         [0., 0., 0., 0., 0., 0., 0., 0., 1.]]),\n",
              "  4: array([[1., 0., 0., 0., 0., 0., 0., 0., 0., 0.],\n",
              "         [0., 1., 0., 0., 0., 0., 0., 0., 0., 0.],\n",
              "         [0., 0., 1., 1., 1., 0., 0., 0., 0., 0.],\n",
              "         [0., 0., 0., 0., 0., 1., 1., 0., 0., 0.],\n",
              "         [0., 0., 0., 0., 0., 0., 0., 1., 1., 0.],\n",
              "         [0., 0., 0., 0., 0., 0., 0., 0., 0., 0.],\n",
              "         [0., 0., 0., 0., 0., 0., 0., 0., 0., 1.]]),\n",
              "  5: array([[1., 0., 0., 0., 0., 0., 0., 0., 0., 0.],\n",
              "         [0., 1., 0., 0., 0., 0., 0., 0., 0., 0.],\n",
              "         [0., 0., 0., 0., 0., 0., 0., 0., 0., 0.],\n",
              "         [0., 0., 1., 1., 0., 0., 1., 0., 0., 0.],\n",
              "         [0., 0., 0., 0., 1., 0., 0., 1., 1., 0.],\n",
              "         [0., 0., 0., 0., 0., 1., 0., 0., 0., 0.],\n",
              "         [0., 0., 0., 0., 0., 0., 0., 0., 0., 1.]]),\n",
              "  6: array([[1., 0., 0., 0., 0., 0., 0., 0., 0.],\n",
              "         [0., 1., 0., 0., 1., 1., 0., 0., 0.],\n",
              "         [0., 0., 0., 0., 0., 0., 0., 0., 0.],\n",
              "         [0., 0., 1., 1., 0., 0., 0., 0., 0.],\n",
              "         [0., 0., 0., 0., 0., 0., 1., 1., 0.],\n",
              "         [0., 0., 0., 0., 0., 0., 0., 0., 0.],\n",
              "         [0., 0., 0., 0., 0., 0., 0., 0., 1.]]),\n",
              "  7: array([[1., 0., 0., 0., 0., 0., 0., 0., 0.],\n",
              "         [0., 1., 0., 0., 0., 1., 0., 0., 0.],\n",
              "         [0., 0., 1., 0., 0., 0., 0., 0., 0.],\n",
              "         [0., 0., 0., 1., 1., 0., 0., 0., 0.],\n",
              "         [0., 0., 0., 0., 0., 0., 1., 1., 0.],\n",
              "         [0., 0., 0., 0., 0., 0., 0., 0., 0.],\n",
              "         [0., 0., 0., 0., 0., 0., 0., 0., 1.]]),\n",
              "  8: array([[1., 0., 0., 0., 0., 0., 0., 0., 0., 0.],\n",
              "         [0., 1., 0., 0., 0., 0., 0., 0., 0., 0.],\n",
              "         [0., 0., 1., 1., 0., 0., 0., 0., 1., 0.],\n",
              "         [0., 0., 0., 0., 1., 1., 0., 0., 0., 0.],\n",
              "         [0., 0., 0., 0., 0., 0., 1., 0., 0., 0.],\n",
              "         [0., 0., 0., 0., 0., 0., 0., 1., 0., 0.],\n",
              "         [0., 0., 0., 0., 0., 0., 0., 0., 0., 1.]]),\n",
              "  9: array([[1., 0., 0., 0., 0., 0., 0., 0., 0., 0.],\n",
              "         [0., 1., 0., 0., 0., 1., 0., 0., 0., 0.],\n",
              "         [0., 0., 1., 0., 0., 0., 0., 0., 1., 0.],\n",
              "         [0., 0., 0., 1., 1., 0., 0., 0., 0., 0.],\n",
              "         [0., 0., 0., 0., 0., 0., 1., 0., 0., 0.],\n",
              "         [0., 0., 0., 0., 0., 0., 0., 1., 0., 0.],\n",
              "         [0., 0., 0., 0., 0., 0., 0., 0., 0., 1.]]),\n",
              "  10: array([[1., 0., 0., 0., 0., 0., 0., 0., 0.],\n",
              "         [0., 1., 0., 0., 1., 0., 0., 0., 0.],\n",
              "         [0., 0., 0., 0., 0., 0., 0., 1., 0.],\n",
              "         [0., 0., 1., 1., 0., 0., 0., 0., 0.],\n",
              "         [0., 0., 0., 0., 0., 1., 0., 0., 0.],\n",
              "         [0., 0., 0., 0., 0., 0., 1., 0., 0.],\n",
              "         [0., 0., 0., 0., 0., 0., 0., 0., 1.]]),\n",
              "  11: array([[1., 0., 0., 0., 0., 0., 0., 0.],\n",
              "         [0., 1., 0., 0., 0., 0., 0., 0.],\n",
              "         [0., 0., 0., 0., 0., 0., 1., 0.],\n",
              "         [0., 0., 1., 1., 0., 0., 0., 0.],\n",
              "         [0., 0., 0., 0., 1., 0., 0., 0.],\n",
              "         [0., 0., 0., 0., 0., 1., 0., 0.],\n",
              "         [0., 0., 0., 0., 0., 0., 0., 1.]]),\n",
              "  12: array([[1., 0., 0., 0., 0.],\n",
              "         [0., 0., 0., 0., 0.],\n",
              "         [0., 0., 0., 0., 0.],\n",
              "         [0., 0., 0., 0., 0.],\n",
              "         [0., 0., 1., 1., 0.],\n",
              "         [0., 1., 0., 0., 0.],\n",
              "         [0., 0., 0., 0., 1.]]),\n",
              "  13: array([[1., 0., 0., 0., 0., 0., 0.],\n",
              "         [0., 0., 1., 1., 0., 0., 0.],\n",
              "         [0., 0., 0., 0., 0., 0., 0.],\n",
              "         [0., 0., 0., 0., 0., 0., 0.],\n",
              "         [0., 0., 0., 0., 1., 1., 0.],\n",
              "         [0., 1., 0., 0., 0., 0., 0.],\n",
              "         [0., 0., 0., 0., 0., 0., 1.]]),\n",
              "  14: array([[1., 0., 0., 0., 0., 0., 0., 0., 0.],\n",
              "         [0., 0., 1., 0., 0., 0., 0., 0., 0.],\n",
              "         [0., 0., 0., 0., 0., 0., 0., 0., 0.],\n",
              "         [0., 0., 0., 0., 0., 1., 0., 0., 0.],\n",
              "         [0., 0., 0., 1., 0., 0., 1., 1., 0.],\n",
              "         [0., 1., 0., 0., 1., 0., 0., 0., 0.],\n",
              "         [0., 0., 0., 0., 0., 0., 0., 0., 1.]]),\n",
              "  15: array([[1., 0., 0., 0., 0., 0., 0., 0.],\n",
              "         [0., 0., 0., 0., 0., 0., 0., 0.],\n",
              "         [0., 0., 0., 0., 0., 0., 0., 0.],\n",
              "         [0., 0., 0., 0., 1., 0., 0., 0.],\n",
              "         [0., 0., 1., 0., 0., 1., 1., 0.],\n",
              "         [0., 1., 0., 1., 0., 0., 0., 0.],\n",
              "         [0., 0., 0., 0., 0., 0., 0., 1.]]),\n",
              "  16: array([[1., 0., 0., 0., 0., 0., 0., 0., 0., 0.],\n",
              "         [0., 0., 1., 0., 0., 0., 1., 0., 0., 0.],\n",
              "         [0., 0., 0., 0., 0., 0., 0., 0., 0., 0.],\n",
              "         [0., 0., 0., 0., 0., 1., 0., 0., 0., 0.],\n",
              "         [0., 0., 0., 1., 0., 0., 0., 1., 1., 0.],\n",
              "         [0., 1., 0., 0., 1., 0., 0., 0., 0., 0.],\n",
              "         [0., 0., 0., 0., 0., 0., 0., 0., 0., 1.]]),\n",
              "  17: array([[1., 0., 0., 0., 0., 0., 0., 0., 0.],\n",
              "         [0., 0., 0., 0., 0., 0., 0., 0., 0.],\n",
              "         [0., 0., 0., 0., 0., 0., 0., 1., 0.],\n",
              "         [0., 0., 0., 0., 1., 0., 0., 0., 0.],\n",
              "         [0., 0., 1., 0., 0., 1., 0., 0., 0.],\n",
              "         [0., 1., 0., 1., 0., 0., 1., 0., 0.],\n",
              "         [0., 0., 0., 0., 0., 0., 0., 0., 1.]]),\n",
              "  18: array([[1., 0., 0., 0., 0., 0., 0.],\n",
              "         [0., 0., 1., 0., 0., 0., 0.],\n",
              "         [0., 0., 0., 0., 0., 1., 0.],\n",
              "         [0., 0., 0., 0., 0., 0., 0.],\n",
              "         [0., 0., 0., 1., 0., 0., 0.],\n",
              "         [0., 1., 0., 0., 1., 0., 0.],\n",
              "         [0., 0., 0., 0., 0., 0., 1.]]),\n",
              "  19: array([[1., 0., 0., 0., 0., 0., 0., 0., 0., 0.],\n",
              "         [0., 0., 0., 0., 0., 1., 0., 0., 0., 0.],\n",
              "         [0., 0., 0., 0., 0., 0., 0., 0., 1., 0.],\n",
              "         [0., 0., 0., 0., 1., 0., 0., 0., 0., 0.],\n",
              "         [0., 0., 1., 0., 0., 0., 1., 0., 0., 0.],\n",
              "         [0., 1., 0., 1., 0., 0., 0., 1., 0., 0.],\n",
              "         [0., 0., 0., 0., 0., 0., 0., 0., 0., 1.]]),\n",
              "  20: array([[1., 0., 0., 0., 0., 0., 0., 0.],\n",
              "         [0., 0., 1., 1., 0., 0., 0., 0.],\n",
              "         [0., 0., 0., 0., 0., 0., 1., 0.],\n",
              "         [0., 0., 0., 0., 0., 0., 0., 0.],\n",
              "         [0., 0., 0., 0., 1., 0., 0., 0.],\n",
              "         [0., 1., 0., 0., 0., 1., 0., 0.],\n",
              "         [0., 0., 0., 0., 0., 0., 0., 1.]])},\n",
              " 'testingInputs': {0: array([[1., 0., 0., 0., 0., 0.],\n",
              "         [0., 0., 1., 0., 0., 0.],\n",
              "         [0., 0., 0., 0., 0., 0.],\n",
              "         [0., 0., 0., 0., 0., 0.],\n",
              "         [0., 0., 0., 1., 1., 0.],\n",
              "         [0., 1., 0., 0., 0., 0.],\n",
              "         [0., 0., 0., 0., 0., 1.]]),\n",
              "  1: array([[1., 0., 0., 0., 0., 0., 0., 0.],\n",
              "         [0., 0., 1., 1., 1., 0., 0., 0.],\n",
              "         [0., 0., 0., 0., 0., 0., 0., 0.],\n",
              "         [0., 0., 0., 0., 0., 0., 0., 0.],\n",
              "         [0., 0., 0., 0., 0., 1., 1., 0.],\n",
              "         [0., 1., 0., 0., 0., 0., 0., 0.],\n",
              "         [0., 0., 0., 0., 0., 0., 0., 1.]]),\n",
              "  2: array([[1., 0., 0., 0., 0., 0., 0., 0., 0.],\n",
              "         [0., 0., 1., 1., 1., 1., 0., 0., 0.],\n",
              "         [0., 0., 0., 0., 0., 0., 0., 0., 0.],\n",
              "         [0., 0., 0., 0., 0., 0., 0., 0., 0.],\n",
              "         [0., 0., 0., 0., 0., 0., 1., 1., 0.],\n",
              "         [0., 1., 0., 0., 0., 0., 0., 0., 0.],\n",
              "         [0., 0., 0., 0., 0., 0., 0., 0., 1.]]),\n",
              "  3: array([[1., 0., 0., 0., 0., 0., 0., 0., 0., 0.],\n",
              "         [0., 0., 1., 1., 1., 1., 1., 0., 0., 0.],\n",
              "         [0., 0., 0., 0., 0., 0., 0., 0., 0., 0.],\n",
              "         [0., 0., 0., 0., 0., 0., 0., 0., 0., 0.],\n",
              "         [0., 0., 0., 0., 0., 0., 0., 1., 1., 0.],\n",
              "         [0., 1., 0., 0., 0., 0., 0., 0., 0., 0.],\n",
              "         [0., 0., 0., 0., 0., 0., 0., 0., 0., 1.]]),\n",
              "  4: array([[1., 0., 0., 0., 0., 0.],\n",
              "         [0., 0., 0., 0., 0., 0.],\n",
              "         [0., 0., 0., 0., 1., 0.],\n",
              "         [0., 0., 0., 0., 0., 0.],\n",
              "         [0., 0., 1., 0., 0., 0.],\n",
              "         [0., 1., 0., 1., 0., 0.],\n",
              "         [0., 0., 0., 0., 0., 1.]]),\n",
              "  5: array([[1., 0., 0., 0., 0., 0., 0., 0.],\n",
              "         [0., 0., 1., 1., 0., 0., 0., 0.],\n",
              "         [0., 0., 0., 0., 0., 0., 1., 0.],\n",
              "         [0., 0., 0., 0., 0., 0., 0., 0.],\n",
              "         [0., 0., 0., 0., 1., 0., 0., 0.],\n",
              "         [0., 1., 0., 0., 0., 1., 0., 0.],\n",
              "         [0., 0., 0., 0., 0., 0., 0., 1.]]),\n",
              "  6: array([[1., 0., 0., 0., 0., 0., 0., 0., 0., 0.],\n",
              "         [0., 0., 1., 1., 1., 1., 0., 0., 0., 0.],\n",
              "         [0., 0., 0., 0., 0., 0., 0., 0., 1., 0.],\n",
              "         [0., 0., 0., 0., 0., 0., 0., 0., 0., 0.],\n",
              "         [0., 0., 0., 0., 0., 0., 1., 0., 0., 0.],\n",
              "         [0., 1., 0., 0., 0., 0., 0., 1., 0., 0.],\n",
              "         [0., 0., 0., 0., 0., 0., 0., 0., 0., 1.]]),\n",
              "  7: array([[1., 0., 0., 0., 0., 0., 0., 0., 0.],\n",
              "         [0., 0., 0., 0., 0., 1., 0., 0., 0.],\n",
              "         [0., 0., 0., 0., 0., 0., 0., 0., 0.],\n",
              "         [0., 0., 0., 0., 1., 0., 0., 0., 0.],\n",
              "         [0., 0., 1., 0., 0., 0., 1., 1., 0.],\n",
              "         [0., 1., 0., 1., 0., 0., 0., 0., 0.],\n",
              "         [0., 0., 0., 0., 0., 0., 0., 0., 1.]]),\n",
              "  8: array([[1., 0., 0., 0., 0., 0., 0., 0., 0., 0.],\n",
              "         [0., 0., 0., 0., 0., 1., 1., 0., 0., 0.],\n",
              "         [0., 0., 0., 0., 0., 0., 0., 0., 0., 0.],\n",
              "         [0., 0., 0., 0., 1., 0., 0., 0., 0., 0.],\n",
              "         [0., 0., 1., 0., 0., 0., 0., 1., 1., 0.],\n",
              "         [0., 1., 0., 1., 0., 0., 0., 0., 0., 0.],\n",
              "         [0., 0., 0., 0., 0., 0., 0., 0., 0., 1.]]),\n",
              "  9: array([[1., 0., 0., 0., 0., 0., 0., 0., 0., 0.],\n",
              "         [0., 0., 1., 0., 0., 0., 0., 0., 0., 0.],\n",
              "         [0., 0., 0., 0., 0., 0., 0., 0., 1., 0.],\n",
              "         [0., 0., 0., 0., 0., 1., 0., 0., 0., 0.],\n",
              "         [0., 0., 0., 1., 0., 0., 1., 0., 0., 0.],\n",
              "         [0., 1., 0., 0., 1., 0., 0., 1., 0., 0.],\n",
              "         [0., 0., 0., 0., 0., 0., 0., 0., 0., 1.]]),\n",
              "  10: array([[1., 0., 0., 0., 0., 0., 0., 0., 0., 0.],\n",
              "         [0., 0., 1., 1., 0., 0., 0., 0., 0., 0.],\n",
              "         [0., 0., 0., 0., 0., 0., 0., 0., 0., 0.],\n",
              "         [0., 0., 0., 0., 0., 0., 1., 0., 0., 0.],\n",
              "         [0., 0., 0., 0., 1., 0., 0., 1., 1., 0.],\n",
              "         [0., 1., 0., 0., 0., 1., 0., 0., 0., 0.],\n",
              "         [0., 0., 0., 0., 0., 0., 0., 0., 0., 1.]]),\n",
              "  11: array([[1., 0., 0., 0., 0., 0., 0.],\n",
              "         [0., 1., 0., 0., 0., 0., 0.],\n",
              "         [0., 0., 1., 1., 0., 1., 0.],\n",
              "         [0., 0., 0., 0., 1., 0., 0.],\n",
              "         [0., 0., 0., 0., 0., 0., 0.],\n",
              "         [0., 0., 0., 0., 0., 0., 0.],\n",
              "         [0., 0., 0., 0., 0., 0., 1.]]),\n",
              "  12: array([[1., 0., 0., 0., 0., 0., 0., 0., 0.],\n",
              "         [0., 1., 0., 0., 0., 0., 0., 0., 0.],\n",
              "         [0., 0., 1., 1., 1., 1., 0., 1., 0.],\n",
              "         [0., 0., 0., 0., 0., 0., 1., 0., 0.],\n",
              "         [0., 0., 0., 0., 0., 0., 0., 0., 0.],\n",
              "         [0., 0., 0., 0., 0., 0., 0., 0., 0.],\n",
              "         [0., 0., 0., 0., 0., 0., 0., 0., 1.]]),\n",
              "  13: array([[1., 0., 0., 0., 0., 0., 0., 0., 0., 0.],\n",
              "         [0., 1., 0., 0., 0., 0., 0., 0., 0., 0.],\n",
              "         [0., 0., 1., 1., 1., 1., 1., 0., 1., 0.],\n",
              "         [0., 0., 0., 0., 0., 0., 0., 1., 0., 0.],\n",
              "         [0., 0., 0., 0., 0., 0., 0., 0., 0., 0.],\n",
              "         [0., 0., 0., 0., 0., 0., 0., 0., 0., 0.],\n",
              "         [0., 0., 0., 0., 0., 0., 0., 0., 0., 1.]]),\n",
              "  14: array([[1., 0., 0., 0., 0., 0., 0.],\n",
              "         [0., 1., 0., 0., 0., 0., 0.],\n",
              "         [0., 0., 0., 0., 0., 0., 0.],\n",
              "         [0., 0., 1., 1., 0., 0., 0.],\n",
              "         [0., 0., 0., 0., 1., 1., 0.],\n",
              "         [0., 0., 0., 0., 0., 0., 0.],\n",
              "         [0., 0., 0., 0., 0., 0., 1.]]),\n",
              "  15: array([[1., 0., 0., 0., 0., 0., 0., 0.],\n",
              "         [0., 1., 0., 0., 1., 0., 0., 0.],\n",
              "         [0., 0., 0., 0., 0., 0., 0., 0.],\n",
              "         [0., 0., 1., 1., 0., 0., 0., 0.],\n",
              "         [0., 0., 0., 0., 0., 1., 1., 0.],\n",
              "         [0., 0., 0., 0., 0., 0., 0., 0.],\n",
              "         [0., 0., 0., 0., 0., 0., 0., 1.]]),\n",
              "  16: array([[1., 0., 0., 0., 0., 0., 0., 0., 0., 0.],\n",
              "         [0., 1., 0., 0., 1., 1., 1., 0., 0., 0.],\n",
              "         [0., 0., 0., 0., 0., 0., 0., 0., 0., 0.],\n",
              "         [0., 0., 1., 1., 0., 0., 0., 0., 0., 0.],\n",
              "         [0., 0., 0., 0., 0., 0., 0., 1., 1., 0.],\n",
              "         [0., 0., 0., 0., 0., 0., 0., 0., 0., 0.],\n",
              "         [0., 0., 0., 0., 0., 0., 0., 0., 0., 1.]]),\n",
              "  17: array([[1., 0., 0., 0., 0., 0., 0., 0., 0., 0.],\n",
              "         [0., 1., 0., 0., 1., 1., 0., 0., 0., 0.],\n",
              "         [0., 0., 0., 0., 0., 0., 0., 0., 1., 0.],\n",
              "         [0., 0., 1., 1., 0., 0., 0., 0., 0., 0.],\n",
              "         [0., 0., 0., 0., 0., 0., 1., 0., 0., 0.],\n",
              "         [0., 0., 0., 0., 0., 0., 0., 1., 0., 0.],\n",
              "         [0., 0., 0., 0., 0., 0., 0., 0., 0., 1.]]),\n",
              "  18: array([[1., 0., 0., 0., 0., 0., 0., 0.],\n",
              "         [0., 1., 0., 0., 0., 0., 0., 0.],\n",
              "         [0., 0., 1., 0., 0., 0., 0., 0.],\n",
              "         [0., 0., 0., 1., 1., 0., 0., 0.],\n",
              "         [0., 0., 0., 0., 0., 1., 1., 0.],\n",
              "         [0., 0., 0., 0., 0., 0., 0., 0.],\n",
              "         [0., 0., 0., 0., 0., 0., 0., 1.]]),\n",
              "  19: array([[1., 0., 0., 0., 0., 0., 0., 0., 0., 0.],\n",
              "         [0., 1., 0., 0., 0., 1., 1., 0., 0., 0.],\n",
              "         [0., 0., 1., 0., 0., 0., 0., 0., 0., 0.],\n",
              "         [0., 0., 0., 1., 1., 0., 0., 0., 0., 0.],\n",
              "         [0., 0., 0., 0., 0., 0., 0., 1., 1., 0.],\n",
              "         [0., 0., 0., 0., 0., 0., 0., 0., 0., 0.],\n",
              "         [0., 0., 0., 0., 0., 0., 0., 0., 0., 1.]]),\n",
              "  20: array([[1., 0., 0., 0., 0., 0., 0., 0., 0., 0.],\n",
              "         [0., 1., 0., 0., 0., 0., 1., 0., 0., 0.],\n",
              "         [0., 0., 1., 1., 0., 0., 0., 0., 0., 0.],\n",
              "         [0., 0., 0., 0., 1., 1., 0., 0., 0., 0.],\n",
              "         [0., 0., 0., 0., 0., 0., 0., 1., 1., 0.],\n",
              "         [0., 0., 0., 0., 0., 0., 0., 0., 0., 0.],\n",
              "         [0., 0., 0., 0., 0., 0., 0., 0., 0., 1.]]),\n",
              "  21: array([[1., 0., 0., 0., 0., 0., 0., 0., 0.],\n",
              "         [0., 1., 0., 0., 0., 0., 0., 0., 0.],\n",
              "         [0., 0., 1., 0., 0., 0., 0., 1., 0.],\n",
              "         [0., 0., 0., 1., 1., 0., 0., 0., 0.],\n",
              "         [0., 0., 0., 0., 0., 1., 0., 0., 0.],\n",
              "         [0., 0., 0., 0., 0., 0., 1., 0., 0.],\n",
              "         [0., 0., 0., 0., 0., 0., 0., 0., 1.]])},\n",
              " 'trainingStrings': array(['BTSXSE', 'BTXSE', 'BTSSSXSE', 'BTSSXXVVE', 'BTSSSXXVVE',\n",
              "        'BTXXVPXVVE', 'BTXXTTVVE', 'BTSXXTVVE', 'BTSSXXVPSE', 'BTSXXTVPSE',\n",
              "        'BTXXTVPSE', 'BTXXVPSE', 'BPVVE', 'BPTTVVE', 'BPTVPXVVE',\n",
              "        'BPVPXVVE', 'BPTVPXTVVE', 'BPVPXVPSE', 'BPTVPSE', 'BPVPXTVPSE'],\n",
              "       dtype=object),\n",
              " 'testingStrings': array(['BPTVVE', 'BPTTTVVE', 'BPTTTTVVE', 'BPTTTTTVVE', 'BPVPSE',\n",
              "        'BPTTVPSE', 'BPTTTTVPSE', 'BPVPXTVVE', 'BPVPXTTVVE', 'BPTVPXVPSE',\n",
              "        'BPTTVPXVVE', 'BTSSXSE', 'BTSSSSXSE', 'BTSSSSSXSE', 'BTXXVVE',\n",
              "        'BTXXTVVE', 'BTXXTTTVVE', 'BTXXTTVPSE', 'BTSXXVVE', 'BTSXXTTVVE',\n",
              "        'BTSSXXTVVE', 'BTSXXVPSE'], dtype=object),\n",
              " 'allStrings': array(['BTSXSE', 'BTXSE', 'BTSSSXSE', 'BTSSXXVVE', 'BTSSSXXVVE',\n",
              "        'BTXXVPXVVE', 'BTXXTTVVE', 'BTSXXTVVE', 'BTSSXXVPSE', 'BTSXXTVPSE',\n",
              "        'BTXXTVPSE', 'BTXXVPSE', 'BPVVE', 'BPTTVVE', 'BPTVPXVVE',\n",
              "        'BPVPXVVE', 'BPTVPXTVVE', 'BPVPXVPSE', 'BPTVPSE', 'BPVPXTVPSE',\n",
              "        'BPTTVPSE', 'BPTVVE', 'BPTTTVVE', 'BPTTTTVVE', 'BPTTTTTVVE',\n",
              "        'BPVPSE', 'BPTTVPSE', 'BPTTTTVPSE', 'BPVPXTVVE', 'BPVPXTTVVE',\n",
              "        'BPTVPXVPSE', 'BPTTVPXVVE', 'BTSSXSE', 'BTSSSSXSE', 'BTSSSSSXSE',\n",
              "        'BTXXVVE', 'BTXXTVVE', 'BTXXTTTVVE', 'BTXXTTVPSE', 'BTSXXVVE',\n",
              "        'BTSXXTTVVE', 'BTSSXXTVVE', 'BTSXXVPSE'], dtype=object),\n",
              " 'characters': ['B', 'T', 'S', 'X', 'V', 'P', 'E']}"
            ]
          },
          "metadata": {},
          "execution_count": 6
        }
      ],
      "source": [
        "pattern = reber_patterns()\n",
        "pattern"
      ]
    },
    {
      "cell_type": "markdown",
      "metadata": {
        "id": "XPmiOjJMzH-e"
      },
      "source": [
        "The most important fields of this variable are `'trainingInputs'` and `'testingInputs'`. These are dictionaries of 21 and 22 keys respectively. Each value of these dictionaries again contains a sequence of letters, but now in a matrix and in one-hot encoded form. Let’s see what that looks like, by inspecting the content of the second training input:"
      ]
    },
    {
      "cell_type": "code",
      "execution_count": 7,
      "metadata": {
        "id": "djEBaMeWzH-e",
        "colab": {
          "base_uri": "https://localhost:8080/"
        },
        "outputId": "64706854-5ff0-4861-9e22-f27ca798a5c9"
      },
      "outputs": [
        {
          "output_type": "execute_result",
          "data": {
            "text/plain": [
              "array([[1., 0., 0., 0., 0., 0.],\n",
              "       [0., 1., 0., 0., 0., 0.],\n",
              "       [0., 0., 1., 0., 1., 0.],\n",
              "       [0., 0., 0., 1., 0., 0.],\n",
              "       [0., 0., 0., 0., 0., 0.],\n",
              "       [0., 0., 0., 0., 0., 0.],\n",
              "       [0., 0., 0., 0., 0., 1.]])"
            ]
          },
          "metadata": {},
          "execution_count": 7
        }
      ],
      "source": [
        "pattern['trainingInputs'][0]"
      ]
    },
    {
      "cell_type": "markdown",
      "metadata": {
        "id": "8TXybQkWzH-e"
      },
      "source": [
        "This input has 7 rows and 5 columns. If you inspect other trainingInputs, you will notice that all of them have 7 rows as well, but that the number of columns differs between them. So, the rows represent which letter occurs, and the columns indicated in which temporal sequence it occurs. Using the field characters of the pattern variable, we can now decode that this sequence corresponds to BTXSE. To see this, consider which rows have the one in them across columns, and then check how those indices correspond the letters in characters.\n",
        "\n",
        "Note that in the exercises for Lab 3.1, the patterns always had a desired output for each input. Why are there only inputs now?\n",
        "\n",
        "# 2.2 A bird's eye view of the model\n",
        "\n",
        "Take a look at `initModel`. As in Lab 3.1 exercises, this function will initialize the model. You’ll notice that the model 7 input neurons, 7 output neurons, 8 hidden neurons and 8 context neurons. There are connections between the hidden layer and the output layer, the input layer and the hidden layer, and the context layer and the hidden layer. All these connections will be modified over the course of learning. Note that initModel does not set the connection weights from the hidden layer to the context layer (why?).\n",
        "\n",
        "\n",
        "\n"
      ]
    },
    {
      "cell_type": "code",
      "execution_count": 8,
      "metadata": {
        "id": "0MpdtOrLzH-f"
      },
      "outputs": [],
      "source": [
        "def initModel():\n",
        "    model = {}\n",
        "    model['nrInputs'] = 7\n",
        "    model['nrHiddens'] = 8\n",
        "    model['nrContexts'] = model['nrHiddens']\n",
        "    model['nrOutputs'] = 7\n",
        "\n",
        "    model['h2oWeights'] = np.random.uniform(-0.35, 0.35, (model['nrOutputs'], model['nrHiddens']))\n",
        "    model['i2hWeights'] = np.random.uniform(-0.25, 0.25, (model['nrHiddens'], model['nrInputs']))\n",
        "    model['c2hWeights'] = np.random.uniform(-0.25, 0.25, (model['nrHiddens'], model['nrContexts']))\n",
        "        \n",
        "    model['learningRate'] = 0.01\n",
        "    return model"
      ]
    },
    {
      "cell_type": "markdown",
      "metadata": {
        "id": "MW3r29hBzH-f"
      },
      "source": [
        "# 2.3 Backpropagation through time\n",
        "We have established the structure of the network and what each input and corresponding output is going to be, so it seems like we are ready to train the model.\n",
        "\n",
        "How we are going to do this? The answer is very simple, and kind of complicated at the same time. The simple answer is that we are again going to use back propagation. So, after each sequence is presented, we are going to calculate the error of the network for each input, and then we are going to use this error to update the connection weights of the model (of course taking into account how active the projecting neurons were).\n",
        "\n",
        "This all sounds very much like what we have been doing, so where does it get complicated? Well, as you may remember from class, many steps of activity in a recurrent neural network can be viewed as single network that gets ‘folded’ out over time. Here is a diagram below that demonstrates this, with $x_t$, $h_t$, and $y_t$, the activity of the input, hidden, and output layer on trial t. And $U$, $V$, and $W$ the connection weights between the different layers.\n",
        "\n",
        "![rnn_3-3-3](rnn_3-3-3.png)\n",
        "\n",
        "Viewed this way, it’s easy to see that because the hidden layer is recurrent, the activity of the input neurons on any previous step will affect the output on the current step. The same can be said for the activity of the hidden neurons on any previous step. So, in order to update the connections from the hidden layer to the output layer based on the error on $t = 4$, we need to take _propagate this error back through time_, so that it can adjust the connection weights appropriately for each of the inputs. Now, we need to do this for step 3, as well, and so on.\n",
        "\n",
        "As you saw in class, this gets messy. And therefore, I will spare you the details. That being said, let’s have a quick look at `trainModel`, just so that you can develop an intuition for how it works."
      ]
    },
    {
      "cell_type": "code",
      "execution_count": 9,
      "metadata": {
        "id": "jBsNf80kzH-g"
      },
      "outputs": [],
      "source": [
        "# trainModel code\n",
        "def trainModel(nrEpochs):\n",
        "    model = initModel()\n",
        "    pattern = reber_patterns()\n",
        "    nrTrainingPatterns = len(pattern['trainingInputs'])\n",
        "\n",
        "    results = {}\n",
        "    results['trainingAccuracy'] = []\n",
        "    results['testingAccuracy'] = []\n",
        "    results['meanLL'] = np.zeros(nrEpochs)\n",
        "    results['model'] = []\n",
        "    \n",
        "    for epoch in range(nrEpochs):\n",
        "        # randomize the presentation\n",
        "        order = np.random.permutation(nrTrainingPatterns)\n",
        "        # initialize the loss function\n",
        "        loss = []\n",
        "        for i in range(nrTrainingPatterns):\n",
        "            \n",
        "            input = pattern['trainingInputs'][order[i]]\n",
        "            sequenceLength = input.shape[1]\n",
        "            \n",
        "            currentContextActs = 0.5 * np.ones((model['nrContexts'],1))\n",
        "            outputActs = np.zeros((model['nrOutputs'],sequenceLength-1))\n",
        "            hiddenActs = np.zeros((model['nrHiddens'],sequenceLength-1))\n",
        "            inputActs = np.zeros((model['nrInputs'],sequenceLength-1))\n",
        "            contextActs = hiddenActs.copy()\n",
        "            gradient = outputActs.copy()\n",
        "            \n",
        "            # here we activate the model, and predict the next letter\n",
        "            for j in range(sequenceLength-1): # don't predict last pattern\n",
        "                outputActs[:,j:(j+1)] , hiddenActs[:,j:(j+1)] = activate(model, input[:,j:(j+1)], currentContextActs)\n",
        "                contextActs[:,j:(j+1)] = currentContextActs\n",
        "                inputActs[:,j] = input[:,j]\n",
        "            \n",
        "                error_deriv = outputActs[:,j] - input[:,j+1]\n",
        "                gradient[:,j] = error_deriv\n",
        "                \n",
        "                # copy hidden activations to context\n",
        "                currentContextActs = hiddenActs[:,j:(j+1)]\n",
        "                \n",
        "                # calculate and store loss\n",
        "                loss_update = -np.sum(input[:,j+1] * np.log(outputActs[:,j]))\n",
        "                loss.append(loss_update)\n",
        "                        \n",
        "            delta_h2o = np.zeros((model['h2oWeights'].shape))\n",
        "            delta_i2h = np.zeros((model['i2hWeights'].shape))\n",
        "            delta_c2h = np.zeros((model['c2hWeights'].shape))\n",
        "            \n",
        "            # this is where backpropagation through time happens\n",
        "            for j in range(sequenceLength-1)[::-1]: # reversed\n",
        "                            \n",
        "                delta_h2o += gradient[:,j:(j+1)]*hiddenActs[:,j]\n",
        "                gradient_over_time = (model['h2oWeights'].T @ gradient[:,j:(j+1)])*hiddenActs[:,j:(j+1)] * (1 - hiddenActs[:,j:(j+1)])\n",
        "                \n",
        "                for k in range(j+1)[::-1]: # backprop through time\n",
        "                    \n",
        "                    delta_i2h += gradient_over_time*inputActs[:,k]\n",
        "                    delta_c2h += gradient_over_time*contextActs[:,k]\n",
        "\n",
        "                    gradient_over_time = (model['c2hWeights'].T @ gradient_over_time) * contextActs[:,k:(k+1)] * (1 - contextActs[:,k:(k+1)])\n",
        "                    \n",
        "            model['h2oWeights'] -= model['learningRate'] * delta_h2o\n",
        "            model['i2hWeights'] -= model['learningRate'] * delta_i2h\n",
        "            model['c2hWeights'] -= model['learningRate'] * delta_c2h\n",
        "                         \n",
        "        results['meanLL'][epoch] = np.nanmean(loss)\n",
        "        \n",
        "        if epoch % 20 == 0:\n",
        "            trainingAccuracy, testingAccuracy = evaluateModel(model, pattern)\n",
        "            results['trainingAccuracy'].append(np.mean(trainingAccuracy))\n",
        "            results['testingAccuracy'].append(np.mean(testingAccuracy))\n",
        "            \n",
        "    return model,results"
      ]
    },
    {
      "cell_type": "markdown",
      "metadata": {
        "id": "-VpIwBw8zH-g"
      },
      "source": [
        "A lot of this will look familiar, the script loads a model and the patterns, and then creates some vectors to store some evaluation results. Next, it trains the model for nrEpochs, which is an input parameter that we are going to mess with in a bit.\n",
        "\n",
        "On each epoch it goes through all training inputs (sequences) in random order. After picking a sequence, it first presents each letter, calculating the activation, the error, and the negative loglikelihood on each step.\n",
        "\n",
        "Then, it uses a double `for` loop to update the model, starting with the error on the very last time step, and back propagating that error to all previous time steps in the sequence. After this it will do the same for the second-to-last time step, continuing to backpropagate its error to all previous timesteps, and repeating the process until it has reached the first time step.\n",
        "\n",
        "Throughout this process, all the delta terms (changes in network weights) get added, and then they get applied, at the same time, to the connection weights.\n",
        "\n",
        "Finally, every 20 trials, `trainModel` runs a simple evaluation of how good the model is at predicting a valid successor for each time step of each sequence in the training and testing patterns (lines 76-82).\n",
        "\n",
        "If you want to understand the code, I’d be happy to walk you through it in more detail. However, this is not strictly necessary. As long as you have an intuition for how backpropagation through time works, and how it is different and the same as ‘regular’ backpropagation, you are ready to start training the model.\n",
        "\n",
        "## 2.3.1 Evaluation of model performance\n",
        "What is a good metric for evaluating model performance? As you know, simply looking at whether the model’s prediction follows the first-order structure is not enough. That way, we can a model could predict that BTS will be followed by E, and we would count it as correct.\n",
        "\n",
        "The function `evaluateModel` takes a better approach. It runs through a sequence and records the model’s prediction on each timestep (i.e., the neuron with the highest activation). For each step, it then counts this prediction as correct if it follows the grammar (Specifically, it runs through all the testing and training strings (because those are all possible sequences of length 10), and it figures out whether any of them start with the current history of letters followed by the predicted letter.).\n",
        "\n",
        "As we said above, this function gets called every 20 trials during `trainModel`, so we get a good insight into how our model’s performance is developing over time.\n",
        "\n",
        "# 3 Training and evaluating the model\n",
        "Let’s train the model! When using `trainModel`, you do not have to initialize the model or provide the training patterns, the function will do this automatically. The only thing you have to do is to provide a number of _epochs_. Let’s start with 500 epochs.\n",
        "\n",
        "In order to answer the next few questions, you need to train a model using `trainModel` for 500 epochs, and make sure to also store the secondary output `results`. Note that we are training the model on 500 × 21 = 10500 sequences."
      ]
    },
    {
      "cell_type": "markdown",
      "metadata": {
        "id": "kduBrmK7zH-h"
      },
      "source": [
        "<font color=\"508C46\"><strong>Question 7 (2 points)</strong><br>\n",
        "Make a plot that depicts how the model’s accuracy on both the testing and the training sequences develops over time. **<u>Which accuracy seems to be higher? Why? Show the plot.</u>**\n",
        "<font> "
      ]
    },
    {
      "cell_type": "code",
      "execution_count": 10,
      "metadata": {
        "id": "InnawdshzH-h",
        "colab": {
          "base_uri": "https://localhost:8080/",
          "height": 447
        },
        "outputId": "3909bdfe-ff3b-4e17-e4e2-9849b93d9585"
      },
      "outputs": [
        {
          "output_type": "execute_result",
          "data": {
            "text/plain": [
              "<matplotlib.legend.Legend at 0x7fe47c1a7700>"
            ]
          },
          "metadata": {},
          "execution_count": 10
        },
        {
          "output_type": "display_data",
          "data": {
            "text/plain": [
              "<Figure size 640x480 with 1 Axes>"
            ],
            "image/png": "[encoded data removed]"
          },
          "metadata": {}
        }
      ],
      "source": [
        "# your code here\n",
        "model, results =trainModel(500)\n",
        "training_accuracy= results['trainingAccuracy']\n",
        "testing_accuracy= results['testingAccuracy']\n",
        "plt.plot(training_accuracy, label=\"training\")\n",
        "plt.plot(testing_accuracy, label=\"testing\")\n",
        "plt.legend()"
      ]
    },
    {
      "cell_type": "markdown",
      "metadata": {
        "id": "QhLF0tYrzH-h"
      },
      "source": [
        "\n",
        ".. double click this to type your response.\n",
        "\n",
        "The training sequences has a higher level of accuracy than the testing sequence because that is what the model was traind on and there is thus some overfitting occuring. The testing still shows a pretty good learning/ accuracy though"
      ]
    },
    {
      "cell_type": "markdown",
      "metadata": {
        "id": "2jrYHdVgzH-j"
      },
      "source": [
        "# 1.4 Visualizing the model's predictions\n",
        "Looking at performance scores gives us a good indication that the model is learning, but it doesn’t tell us how well it is doing. In order get a sense for this, we wrote a function called `showActivations`. This function takes as its input a model and a sequence of letters, and then it prints the predicted next letters (the activation in the output layer) for each step of the sequence.\n",
        "\n",
        "For example, here I run the function for a sequence with just the letter ‘B’:\n",
        "\n",
        "```python\n",
        "showActivations(model, 'B')\n",
        "```\n",
        "\n",
        "You can see that the model splits its prediction between T (56%) and P (42%). It is important to realize that the network does not always split its activity evenly between valid successors, because the training patterns are not precisely balanced in this way.\n",
        "\n",
        "Run the function `showActivations` using the trained `model`, and the sequence 'BTSXSE' as the input. Note that it makes reasonable predictions now, splitting its probability between two possible (valid) successors at each step.\n",
        "\n"
      ]
    },
    {
      "cell_type": "code",
      "execution_count": 11,
      "metadata": {
        "id": "vPhebaW5zH-j"
      },
      "outputs": [],
      "source": [
        "def showActivations(model,sequence):\n",
        "    characters = ['B','T','S','X','V','P','E']\n",
        "    nrCharacters = len(characters)\n",
        "    sequenceLength = len(sequence)\n",
        "    input = np.zeros((nrCharacters,sequenceLength))\n",
        "    for i in range(sequenceLength):\n",
        "        input[:,i] = [sequence[i] == c for c in characters]\n",
        "    contextActs = 0.5 * np.ones((model['nrContexts'],1))\n",
        "\n",
        "    for j in range(sequenceLength):\n",
        "        if sequence[j] != 'E':\n",
        "            outputActs, hiddenActs = activate(model, input[:,j:(j+1)], contextActs)\n",
        "            contextActs = hiddenActs\n",
        "            print('Input: ', sequence[j], 'Output: ', characters[np.argmax(outputActs)])\n",
        "            for i in range(len(outputActs)):\n",
        "                print(characters[i], ': ', np.round(outputActs[i],2))"
      ]
    },
    {
      "cell_type": "code",
      "execution_count": 12,
      "metadata": {
        "id": "k_oTRZZzzH-k",
        "colab": {
          "base_uri": "https://localhost:8080/"
        },
        "outputId": "9005fbfb-be10-4bf7-c1b2-d70385773f83"
      },
      "outputs": [
        {
          "output_type": "stream",
          "name": "stdout",
          "text": [
            "Input:  B Output:  T\n",
            "B :  [0.]\n",
            "T :  [0.57]\n",
            "S :  [0.]\n",
            "X :  [0.]\n",
            "V :  [0.01]\n",
            "P :  [0.41]\n",
            "E :  [0.]\n",
            "Input:  T Output:  S\n",
            "B :  [0.]\n",
            "T :  [0.]\n",
            "S :  [0.58]\n",
            "X :  [0.4]\n",
            "V :  [0.]\n",
            "P :  [0.]\n",
            "E :  [0.01]\n",
            "Input:  S Output:  X\n",
            "B :  [0.]\n",
            "T :  [0.]\n",
            "S :  [0.45]\n",
            "X :  [0.52]\n",
            "V :  [0.]\n",
            "P :  [0.]\n",
            "E :  [0.03]\n",
            "Input:  X Output:  X\n",
            "B :  [0.]\n",
            "T :  [0.]\n",
            "S :  [0.24]\n",
            "X :  [0.76]\n",
            "V :  [0.]\n",
            "P :  [0.]\n",
            "E :  [0.]\n",
            "Input:  S Output:  E\n",
            "B :  [0.]\n",
            "T :  [0.]\n",
            "S :  [0.01]\n",
            "X :  [0.01]\n",
            "V :  [0.01]\n",
            "P :  [0.01]\n",
            "E :  [0.96]\n"
          ]
        }
      ],
      "source": [
        "# your code here\n",
        "showActivations(model, ['B','T','S','X','S','E'])"
      ]
    },
    {
      "cell_type": "markdown",
      "metadata": {
        "id": "ajyW-kX4zH-l"
      },
      "source": [
        "\n",
        "# 1.5 Characterizing the development of learning over time\n",
        "Now we return to our characterization of how learning this artificial grammar unfolds in humans. Recall that Cleeremans and McClelland had participants view this grammar for many trials. They were able to measure _how surprised_ people were by agrammatical substitutes. This in turn, let them figure out how much context people were using to make predictions. They found that early on during learning, people’s behavior suggested that they were making first-order predictions, whereas later on, as they mastered the grammar, their predictions incorporated a richer context (they took into account what happened a few trials back).\n",
        "\n",
        "Let’s see whether we can get something similar out of our networks!\n"
      ]
    },
    {
      "cell_type": "markdown",
      "metadata": {
        "id": "myn19nlyzH-m"
      },
      "source": [
        "<font color=\"508C46\"><strong>Question 8 (10 points)</strong><br>\n",
        "Train three networks, one with only 5 epochs, one with 50 epochs, and another with 500 epochs of training. For each, use showEvaluations on at least two sequences from the <u>_test set_</u>. **<u>What has the network learned?</u>** You should motivate your answer with examples. Think about what kind of order in memory the model’s behavior is best described as. (How can you test what the memory order of the model is? Think about which testing sequences you want to use, and how they are able to inform you about what the model knows.)\n",
        "<font> "
      ]
    },
    {
      "cell_type": "code",
      "execution_count": 16,
      "metadata": {
        "id": "pBDtfwXczH-m",
        "colab": {
          "base_uri": "https://localhost:8080/"
        },
        "outputId": "4e071639-1550-4a3d-fbc9-4858e7a0b5e5"
      },
      "outputs": [
        {
          "output_type": "stream",
          "name": "stdout",
          "text": [
            "Input:  B Output:  V\n",
            "B :  [0.05]\n",
            "T :  [0.16]\n",
            "S :  [0.15]\n",
            "X :  [0.16]\n",
            "V :  [0.21]\n",
            "P :  [0.15]\n",
            "E :  [0.12]\n",
            "Input:  P Output:  V\n",
            "B :  [0.04]\n",
            "T :  [0.16]\n",
            "S :  [0.15]\n",
            "X :  [0.17]\n",
            "V :  [0.22]\n",
            "P :  [0.14]\n",
            "E :  [0.12]\n",
            "Input:  T Output:  V\n",
            "B :  [0.05]\n",
            "T :  [0.16]\n",
            "S :  [0.15]\n",
            "X :  [0.16]\n",
            "V :  [0.21]\n",
            "P :  [0.14]\n",
            "E :  [0.13]\n",
            "Input:  T Output:  V\n",
            "B :  [0.05]\n",
            "T :  [0.16]\n",
            "S :  [0.15]\n",
            "X :  [0.16]\n",
            "V :  [0.21]\n",
            "P :  [0.14]\n",
            "E :  [0.13]\n",
            "Input:  T Output:  V\n",
            "B :  [0.05]\n",
            "T :  [0.16]\n",
            "S :  [0.15]\n",
            "X :  [0.16]\n",
            "V :  [0.21]\n",
            "P :  [0.14]\n",
            "E :  [0.13]\n",
            "Input:  V Output:  V\n",
            "B :  [0.05]\n",
            "T :  [0.16]\n",
            "S :  [0.15]\n",
            "X :  [0.16]\n",
            "V :  [0.22]\n",
            "P :  [0.15]\n",
            "E :  [0.12]\n",
            "Input:  V Output:  V\n",
            "B :  [0.05]\n",
            "T :  [0.16]\n",
            "S :  [0.15]\n",
            "X :  [0.16]\n",
            "V :  [0.22]\n",
            "P :  [0.15]\n",
            "E :  [0.12]\n",
            "None\n",
            "Input:  B Output:  V\n",
            "B :  [0.05]\n",
            "T :  [0.16]\n",
            "S :  [0.15]\n",
            "X :  [0.16]\n",
            "V :  [0.21]\n",
            "P :  [0.15]\n",
            "E :  [0.12]\n",
            "Input:  P Output:  V\n",
            "B :  [0.04]\n",
            "T :  [0.16]\n",
            "S :  [0.15]\n",
            "X :  [0.17]\n",
            "V :  [0.22]\n",
            "P :  [0.14]\n",
            "E :  [0.12]\n",
            "Input:  V Output:  V\n",
            "B :  [0.05]\n",
            "T :  [0.16]\n",
            "S :  [0.15]\n",
            "X :  [0.16]\n",
            "V :  [0.22]\n",
            "P :  [0.15]\n",
            "E :  [0.12]\n",
            "Input:  P Output:  V\n",
            "B :  [0.04]\n",
            "T :  [0.16]\n",
            "S :  [0.15]\n",
            "X :  [0.16]\n",
            "V :  [0.22]\n",
            "P :  [0.14]\n",
            "E :  [0.12]\n",
            "Input:  X Output:  V\n",
            "B :  [0.04]\n",
            "T :  [0.16]\n",
            "S :  [0.15]\n",
            "X :  [0.16]\n",
            "V :  [0.21]\n",
            "P :  [0.15]\n",
            "E :  [0.12]\n",
            "Input:  T Output:  V\n",
            "B :  [0.05]\n",
            "T :  [0.16]\n",
            "S :  [0.15]\n",
            "X :  [0.16]\n",
            "V :  [0.21]\n",
            "P :  [0.14]\n",
            "E :  [0.13]\n",
            "Input:  V Output:  V\n",
            "B :  [0.05]\n",
            "T :  [0.16]\n",
            "S :  [0.15]\n",
            "X :  [0.16]\n",
            "V :  [0.22]\n",
            "P :  [0.15]\n",
            "E :  [0.12]\n",
            "None\n"
          ]
        }
      ],
      "source": [
        "# your code here\n",
        "model, results =trainModel(5)\n",
        "print(showActivations(model,['B','P','T','T','T','V','V','E']))\n",
        "print(showActivations(model,['B','P','V','P','X','T','V','E']))"
      ]
    },
    {
      "cell_type": "markdown",
      "metadata": {
        "id": "mjuu5E7azH-m"
      },
      "source": [
        "... double click this to type your response.\n",
        "\n",
        "Clearly, the model has not learned anything yet because the output is always V"
      ]
    },
    {
      "cell_type": "code",
      "execution_count": 18,
      "metadata": {
        "id": "GSlpEqCAzH-m",
        "colab": {
          "base_uri": "https://localhost:8080/"
        },
        "outputId": "f6645b42-658a-4a79-8811-b08ef24100de"
      },
      "outputs": [
        {
          "output_type": "stream",
          "name": "stdout",
          "text": [
            "Input:  B Output:  T\n",
            "B :  [0.]\n",
            "T :  [0.23]\n",
            "S :  [0.13]\n",
            "X :  [0.13]\n",
            "V :  [0.21]\n",
            "P :  [0.18]\n",
            "E :  [0.12]\n",
            "Input:  P Output:  V\n",
            "B :  [0.]\n",
            "T :  [0.19]\n",
            "S :  [0.19]\n",
            "X :  [0.21]\n",
            "V :  [0.23]\n",
            "P :  [0.09]\n",
            "E :  [0.08]\n",
            "Input:  T Output:  V\n",
            "B :  [0.]\n",
            "T :  [0.19]\n",
            "S :  [0.17]\n",
            "X :  [0.2]\n",
            "V :  [0.25]\n",
            "P :  [0.1]\n",
            "E :  [0.08]\n",
            "Input:  T Output:  V\n",
            "B :  [0.]\n",
            "T :  [0.19]\n",
            "S :  [0.17]\n",
            "X :  [0.2]\n",
            "V :  [0.25]\n",
            "P :  [0.1]\n",
            "E :  [0.08]\n",
            "Input:  T Output:  V\n",
            "B :  [0.]\n",
            "T :  [0.19]\n",
            "S :  [0.17]\n",
            "X :  [0.2]\n",
            "V :  [0.25]\n",
            "P :  [0.1]\n",
            "E :  [0.08]\n",
            "Input:  V Output:  P\n",
            "B :  [0.]\n",
            "T :  [0.13]\n",
            "S :  [0.1]\n",
            "X :  [0.11]\n",
            "V :  [0.22]\n",
            "P :  [0.25]\n",
            "E :  [0.19]\n",
            "Input:  V Output:  P\n",
            "B :  [0.01]\n",
            "T :  [0.12]\n",
            "S :  [0.11]\n",
            "X :  [0.12]\n",
            "V :  [0.2]\n",
            "P :  [0.24]\n",
            "E :  [0.21]\n",
            "None\n",
            "Input:  B Output:  T\n",
            "B :  [0.]\n",
            "T :  [0.23]\n",
            "S :  [0.13]\n",
            "X :  [0.13]\n",
            "V :  [0.21]\n",
            "P :  [0.18]\n",
            "E :  [0.12]\n",
            "Input:  P Output:  V\n",
            "B :  [0.]\n",
            "T :  [0.19]\n",
            "S :  [0.19]\n",
            "X :  [0.21]\n",
            "V :  [0.23]\n",
            "P :  [0.09]\n",
            "E :  [0.08]\n",
            "Input:  V Output:  P\n",
            "B :  [0.]\n",
            "T :  [0.13]\n",
            "S :  [0.1]\n",
            "X :  [0.11]\n",
            "V :  [0.22]\n",
            "P :  [0.25]\n",
            "E :  [0.19]\n",
            "Input:  P Output:  V\n",
            "B :  [0.]\n",
            "T :  [0.18]\n",
            "S :  [0.19]\n",
            "X :  [0.22]\n",
            "V :  [0.23]\n",
            "P :  [0.1]\n",
            "E :  [0.09]\n",
            "Input:  X Output:  V\n",
            "B :  [0.]\n",
            "T :  [0.19]\n",
            "S :  [0.17]\n",
            "X :  [0.2]\n",
            "V :  [0.25]\n",
            "P :  [0.1]\n",
            "E :  [0.08]\n",
            "Input:  T Output:  V\n",
            "B :  [0.]\n",
            "T :  [0.19]\n",
            "S :  [0.17]\n",
            "X :  [0.2]\n",
            "V :  [0.25]\n",
            "P :  [0.1]\n",
            "E :  [0.08]\n",
            "Input:  V Output:  P\n",
            "B :  [0.]\n",
            "T :  [0.13]\n",
            "S :  [0.1]\n",
            "X :  [0.11]\n",
            "V :  [0.22]\n",
            "P :  [0.25]\n",
            "E :  [0.19]\n",
            "None\n"
          ]
        }
      ],
      "source": [
        "# your code here\n",
        "model, results =trainModel(50)\n",
        "print(showActivations(model,['B','P','T','T','T','V','V','E']))\n",
        "print(showActivations(model,['B','P','V','P','X','T','V','E']))"
      ]
    },
    {
      "cell_type": "markdown",
      "metadata": {
        "id": "WW7ihArLzH-n"
      },
      "source": [
        "... you can also add text here\n",
        "\n",
        "The model is slightly better here. For instance, V outputs P rather than V, in accordance to the rules"
      ]
    },
    {
      "cell_type": "code",
      "execution_count": 20,
      "metadata": {
        "id": "ZbIh50qSzH-n",
        "colab": {
          "base_uri": "https://localhost:8080/"
        },
        "outputId": "b604ddd3-456a-420f-ad7f-2a3f15566391"
      },
      "outputs": [
        {
          "output_type": "stream",
          "name": "stdout",
          "text": [
            "Input:  B Output:  T\n",
            "B :  [0.]\n",
            "T :  [0.57]\n",
            "S :  [0.]\n",
            "X :  [0.]\n",
            "V :  [0.01]\n",
            "P :  [0.42]\n",
            "E :  [0.]\n",
            "Input:  P Output:  T\n",
            "B :  [0.]\n",
            "T :  [0.59]\n",
            "S :  [0.01]\n",
            "X :  [0.]\n",
            "V :  [0.38]\n",
            "P :  [0.01]\n",
            "E :  [0.]\n",
            "Input:  T Output:  V\n",
            "B :  [0.]\n",
            "T :  [0.33]\n",
            "S :  [0.02]\n",
            "X :  [0.01]\n",
            "V :  [0.64]\n",
            "P :  [0.01]\n",
            "E :  [0.]\n",
            "Input:  T Output:  V\n",
            "B :  [0.]\n",
            "T :  [0.26]\n",
            "S :  [0.01]\n",
            "X :  [0.]\n",
            "V :  [0.73]\n",
            "P :  [0.]\n",
            "E :  [0.]\n",
            "Input:  T Output:  V\n",
            "B :  [0.]\n",
            "T :  [0.2]\n",
            "S :  [0.]\n",
            "X :  [0.]\n",
            "V :  [0.8]\n",
            "P :  [0.]\n",
            "E :  [0.]\n",
            "Input:  V Output:  P\n",
            "B :  [0.]\n",
            "T :  [0.01]\n",
            "S :  [0.]\n",
            "X :  [0.]\n",
            "V :  [0.42]\n",
            "P :  [0.56]\n",
            "E :  [0.01]\n",
            "Input:  V Output:  E\n",
            "B :  [0.]\n",
            "T :  [0.]\n",
            "S :  [0.01]\n",
            "X :  [0.]\n",
            "V :  [0.]\n",
            "P :  [0.01]\n",
            "E :  [0.98]\n",
            "None\n",
            "Input:  B Output:  T\n",
            "B :  [0.]\n",
            "T :  [0.57]\n",
            "S :  [0.]\n",
            "X :  [0.]\n",
            "V :  [0.01]\n",
            "P :  [0.42]\n",
            "E :  [0.]\n",
            "Input:  P Output:  T\n",
            "B :  [0.]\n",
            "T :  [0.59]\n",
            "S :  [0.01]\n",
            "X :  [0.]\n",
            "V :  [0.38]\n",
            "P :  [0.01]\n",
            "E :  [0.]\n",
            "Input:  V Output:  P\n",
            "B :  [0.]\n",
            "T :  [0.01]\n",
            "S :  [0.]\n",
            "X :  [0.]\n",
            "V :  [0.24]\n",
            "P :  [0.7]\n",
            "E :  [0.04]\n",
            "Input:  P Output:  S\n",
            "B :  [0.]\n",
            "T :  [0.]\n",
            "S :  [0.51]\n",
            "X :  [0.49]\n",
            "V :  [0.]\n",
            "P :  [0.]\n",
            "E :  [0.]\n",
            "Input:  X Output:  V\n",
            "B :  [0.]\n",
            "T :  [0.43]\n",
            "S :  [0.]\n",
            "X :  [0.]\n",
            "V :  [0.57]\n",
            "P :  [0.]\n",
            "E :  [0.]\n",
            "Input:  T Output:  V\n",
            "B :  [0.]\n",
            "T :  [0.13]\n",
            "S :  [0.]\n",
            "X :  [0.]\n",
            "V :  [0.86]\n",
            "P :  [0.]\n",
            "E :  [0.]\n",
            "Input:  V Output:  P\n",
            "B :  [0.]\n",
            "T :  [0.01]\n",
            "S :  [0.]\n",
            "X :  [0.]\n",
            "V :  [0.42]\n",
            "P :  [0.56]\n",
            "E :  [0.01]\n",
            "None\n"
          ]
        }
      ],
      "source": [
        "# your code here\n",
        "model, results =trainModel(500)\n",
        "print(showActivations(model,['B','P','T','T','T','V','V','E']))\n",
        "print(showActivations(model,['B','P','V','P','X','T','V','E']))"
      ]
    },
    {
      "cell_type": "markdown",
      "metadata": {
        "id": "zDHVlpwnzH-n"
      },
      "source": [
        "... and here!\n",
        "\n",
        "The model has learned it pretty well as shown in confidence levels"
      ]
    }
  ],
  "metadata": {
    "kernelspec": {
      "display_name": "Python 3",
      "language": "python",
      "name": "python3"
    },
    "language_info": {
      "codemirror_mode": {
        "name": "ipython",
        "version": 3
      },
      "file_extension": ".py",
      "mimetype": "text/x-python",
      "name": "python",
      "nbconvert_exporter": "python",
      "pygments_lexer": "ipython3",
      "version": "3.7.6"
    },
    "vscode": {
      "interpreter": {
        "hash": "118b120627193aef794faea661e6204b26fa46f5be1a246b246eacb433382037"
      }
    },
    "colab": {
      "provenance": []
    }
  },
  "nbformat": 4,
  "nbformat_minor": 0
}